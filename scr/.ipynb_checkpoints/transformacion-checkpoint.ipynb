{
 "cells": [
  {
   "cell_type": "markdown",
   "id": "dd979976-e846-4f9e-a527-0949c76f7a5b",
   "metadata": {},
   "source": [
    "# Procesos ETL\n",
    "## Transformación"
   ]
  },
  {
   "cell_type": "markdown",
   "id": "366f3bbe-bd65-4359-9406-c65b5f68737b",
   "metadata": {},
   "source": [
    "### Paso 1.\n",
    "Importar Librerias"
   ]
  },
  {
   "cell_type": "code",
   "execution_count": 1,
   "id": "3a599ffa-92da-41db-9250-41d6e7f909a2",
   "metadata": {},
   "outputs": [],
   "source": [
    "import pandas as pd\n",
    "import matplotlib.pyplot as plt\n",
    "import seaborn as sns\n",
    "import os\n",
    "from extraccion import Extraccion as extra"
   ]
  },
  {
   "cell_type": "markdown",
   "id": "20d78a07-0b0b-4d4f-aec8-98dd1afaacb9",
   "metadata": {},
   "source": [
    "## Paso 2.\n",
    "Rutas de los insumos"
   ]
  },
  {
   "cell_type": "code",
   "execution_count": 3,
   "id": "fb7517e8-9fba-4d0f-91a2-3fb3ff49ddb0",
   "metadata": {},
   "outputs": [
    {
     "name": "stdout",
     "output_type": "stream",
     "text": [
      "D:\\Proyectos\\etl\\scr\n"
     ]
    }
   ],
   "source": [
    "ruta_actual = os.getcwd()\n",
    "print(ruta_actual)\n",
    "extraccion = extra()\n"
   ]
  },
  {
   "cell_type": "code",
   "execution_count": 4,
   "id": "5ecfa583-f3b7-4b26-86a0-d91b53aa3031",
   "metadata": {},
   "outputs": [],
   "source": [
    "path_ds_world_population = os.path.join(ruta_actual,'data/data_population_world.csv').replace(\"\\\\\",\"/\")\n",
    "path_metadata = os.path.join(ruta_actual,'data/metadata_countries.csv').replace(\"\\\\\",\"/\")\n",
    "path_codes = os.path.join(ruta_actual,'data/country_list.csv').replace(\"\\\\\",\"/\")\n",
    "path_years_schooling = os.path.join(ruta_actual,'data/mean-years-of-schooling-long-run.csv').replace(\"\\\\\",\"/\")\n",
    "path_countries_gdp = os.path.join(ruta_actual,'data/countries_gdp_hist.csv').replace(\"\\\\\",\"/\")\n",
    "path_organizations_gdp = os.path.join(ruta_actual,'data/organizations_gdp_hist.csv').replace(\"\\\\\",\"/\")"
   ]
  },
  {
   "cell_type": "markdown",
   "id": "38a8ab6b-3f61-4014-9605-61245f4b4b36",
   "metadata": {},
   "source": [
    "## Paso 3.\n",
    "Cargar los Datasets"
   ]
  },
  {
   "cell_type": "code",
   "execution_count": 9,
   "id": "e6ab647b-48eb-47e2-8844-baa3eeb67b72",
   "metadata": {},
   "outputs": [],
   "source": [
    "df_popu = extraccion.extraccion_csv(path_ds_world_population,separador=',')\n",
    "df_meta = extraccion.extraccion_csv(path_metadata, separador=',')\n",
    "df_codes = extraccion.extraccion_csv(path_codes, separador=',')\n",
    "df_avg_schooling = extraccion.extraccion_csv(path_years_schooling, separador=';')\n",
    "df_countries_gdp = extraccion.extraccion_csv(path_countries_gdp, separador=';')\n",
    "df_organizations_gdp = extraccion.extraccion_csv(path_organizations_gdp, separador=',')"
   ]
  },
  {
   "cell_type": "markdown",
   "id": "a068f787-d1e1-4931-ada4-c3f4ddea1e44",
   "metadata": {},
   "source": [
    "## Exploración"
   ]
  },
  {
   "cell_type": "markdown",
   "id": "0399335b-7f66-4d78-8268-80789caef20e",
   "metadata": {},
   "source": [
    "## Previsualización de los datos"
   ]
  },
  {
   "cell_type": "code",
   "execution_count": 14,
   "id": "44161e04-b046-44a9-bf35-0dbf4e5495de",
   "metadata": {},
   "outputs": [
    {
     "name": "stdout",
     "output_type": "stream",
     "text": [
      "  Country Name Country Code    Indicator Name Indicator Code         1960  \\\n",
      "0        Aruba          ABW  Población, total    SP.POP.TOTL      54608.0   \n",
      "1          NaN          AFE  Población, total    SP.POP.TOTL  130692579.0   \n",
      "2   Afganistán          AFG  Población, total    SP.POP.TOTL    8622466.0   \n",
      "3          NaN          AFW  Población, total    SP.POP.TOTL   97256290.0   \n",
      "4       Angola          AGO  Población, total    SP.POP.TOTL    5357195.0   \n",
      "\n",
      "          1961         1962         1963         1964         1965  ...  \\\n",
      "0      55811.0      56682.0      57475.0      58178.0      58782.0  ...   \n",
      "1  134169237.0  137835590.0  141630546.0  145605995.0  149742351.0  ...   \n",
      "2    8790140.0    8969047.0    9157465.0    9355514.0    9565147.0  ...   \n",
      "3   99314028.0  101445032.0  103667517.0  105959979.0  108336203.0  ...   \n",
      "4    5441333.0    5521400.0    5599827.0    5673199.0    5736582.0  ...   \n",
      "\n",
      "          2013         2014         2015         2016         2017  \\\n",
      "0     102880.0     103594.0     104257.0     104874.0     105439.0   \n",
      "1  567891875.0  583650827.0  600008150.0  616377331.0  632746296.0   \n",
      "2   31541209.0   32716210.0   33753499.0   34636207.0   35643418.0   \n",
      "3  387204553.0  397855507.0  408690375.0  419778384.0  431138704.0   \n",
      "4   26147002.0   27128337.0   28127721.0   29154746.0   30208628.0   \n",
      "\n",
      "          2018         2019         2020         2021  Unnamed: 66  \n",
      "0     105962.0     106442.0     106585.0     106537.0          NaN  \n",
      "1  649756874.0  667242712.0  685112705.0  702976832.0          NaN  \n",
      "2   36686784.0   37769499.0   38972230.0   40099462.0          NaN  \n",
      "3  442646825.0  454306063.0  466189102.0  478185907.0          NaN  \n",
      "4   31273533.0   32353588.0   33428486.0   34503774.0          NaN  \n",
      "\n",
      "[5 rows x 67 columns]\n"
     ]
    }
   ],
   "source": [
    "print(df_popu.head())"
   ]
  },
  {
   "cell_type": "code",
   "execution_count": 10,
   "id": "e87ea4a7-499b-4f27-874e-31122c15f63c",
   "metadata": {},
   "outputs": [
    {
     "name": "stdout",
     "output_type": "stream",
     "text": [
      "  Country Name Country Code  \\\n",
      "0        Aruba          ABW   \n",
      "1          NaN          AFE   \n",
      "2   Afganistán          AFG   \n",
      "3          NaN          AFW   \n",
      "4       Angola          AGO   \n",
      "\n",
      "                                              Region  \\\n",
      "0                                                NaN   \n",
      "1                                                NaN   \n",
      "2                                    Asia meridional   \n",
      "3                                                NaN   \n",
      "4  África al sur del Sahara (excluido altos ingre...   \n",
      "\n",
      "                     Income_Group  Unnamed: 4  \n",
      "0                    Ingreso alto         NaN  \n",
      "1                       Agregados         NaN  \n",
      "2          Países de ingreso bajo         NaN  \n",
      "3                       Agregados         NaN  \n",
      "4  Países de ingreso mediano bajo         NaN  \n"
     ]
    }
   ],
   "source": [
    "print(df_meta.head())"
   ]
  },
  {
   "cell_type": "markdown",
   "id": "1576fe31-efe0-4417-be01-ba6245adfee9",
   "metadata": {},
   "source": [
    "## Estructura Datasets"
   ]
  },
  {
   "cell_type": "code",
   "execution_count": 11,
   "id": "37df3c2d-ed93-445d-8502-195376287719",
   "metadata": {},
   "outputs": [
    {
     "name": "stdout",
     "output_type": "stream",
     "text": [
      "<class 'pandas.core.frame.DataFrame'>\n",
      "RangeIndex: 266 entries, 0 to 265\n",
      "Data columns (total 67 columns):\n",
      " #   Column          Non-Null Count  Dtype  \n",
      "---  ------          --------------  -----  \n",
      " 0   Country Name    264 non-null    object \n",
      " 1   Country Code    266 non-null    object \n",
      " 2   Indicator Name  266 non-null    object \n",
      " 3   Indicator Code  266 non-null    object \n",
      " 4   1960            264 non-null    float64\n",
      " 5   1961            264 non-null    float64\n",
      " 6   1962            264 non-null    float64\n",
      " 7   1963            264 non-null    float64\n",
      " 8   1964            264 non-null    float64\n",
      " 9   1965            264 non-null    float64\n",
      " 10  1966            264 non-null    float64\n",
      " 11  1967            264 non-null    float64\n",
      " 12  1968            264 non-null    float64\n",
      " 13  1969            264 non-null    float64\n",
      " 14  1970            264 non-null    float64\n",
      " 15  1971            264 non-null    float64\n",
      " 16  1972            264 non-null    float64\n",
      " 17  1973            264 non-null    float64\n",
      " 18  1974            264 non-null    float64\n",
      " 19  1975            264 non-null    float64\n",
      " 20  1976            264 non-null    float64\n",
      " 21  1977            264 non-null    float64\n",
      " 22  1978            264 non-null    float64\n",
      " 23  1979            264 non-null    float64\n",
      " 24  1980            264 non-null    float64\n",
      " 25  1981            264 non-null    float64\n",
      " 26  1982            264 non-null    float64\n",
      " 27  1983            264 non-null    float64\n",
      " 28  1984            264 non-null    float64\n",
      " 29  1985            264 non-null    float64\n",
      " 30  1986            264 non-null    float64\n",
      " 31  1987            264 non-null    float64\n",
      " 32  1988            264 non-null    float64\n",
      " 33  1989            264 non-null    float64\n",
      " 34  1990            265 non-null    float64\n",
      " 35  1991            265 non-null    float64\n",
      " 36  1992            265 non-null    float64\n",
      " 37  1993            265 non-null    float64\n",
      " 38  1994            265 non-null    float64\n",
      " 39  1995            265 non-null    float64\n",
      " 40  1996            265 non-null    float64\n",
      " 41  1997            265 non-null    float64\n",
      " 42  1998            265 non-null    float64\n",
      " 43  1999            265 non-null    float64\n",
      " 44  2000            265 non-null    float64\n",
      " 45  2001            265 non-null    float64\n",
      " 46  2002            265 non-null    float64\n",
      " 47  2003            265 non-null    float64\n",
      " 48  2004            265 non-null    float64\n",
      " 49  2005            265 non-null    float64\n",
      " 50  2006            265 non-null    float64\n",
      " 51  2007            265 non-null    float64\n",
      " 52  2008            265 non-null    float64\n",
      " 53  2009            265 non-null    float64\n",
      " 54  2010            265 non-null    float64\n",
      " 55  2011            265 non-null    float64\n",
      " 56  2012            265 non-null    float64\n",
      " 57  2013            265 non-null    float64\n",
      " 58  2014            265 non-null    float64\n",
      " 59  2015            265 non-null    float64\n",
      " 60  2016            265 non-null    float64\n",
      " 61  2017            265 non-null    float64\n",
      " 62  2018            265 non-null    float64\n",
      " 63  2019            265 non-null    float64\n",
      " 64  2020            265 non-null    float64\n",
      " 65  2021            265 non-null    float64\n",
      " 66  Unnamed: 66     0 non-null      float64\n",
      "dtypes: float64(63), object(4)\n",
      "memory usage: 139.4+ KB\n"
     ]
    }
   ],
   "source": [
    "df_popu.info()"
   ]
  },
  {
   "cell_type": "code",
   "execution_count": 12,
   "id": "9681433a-cc60-436b-ac36-8627dd43c687",
   "metadata": {},
   "outputs": [
    {
     "name": "stdout",
     "output_type": "stream",
     "text": [
      "<class 'pandas.core.frame.DataFrame'>\n",
      "RangeIndex: 266 entries, 0 to 265\n",
      "Data columns (total 5 columns):\n",
      " #   Column        Non-Null Count  Dtype  \n",
      "---  ------        --------------  -----  \n",
      " 0   Country Name  264 non-null    object \n",
      " 1   Country Code  266 non-null    object \n",
      " 2   Region        136 non-null    object \n",
      " 3   Income_Group  266 non-null    object \n",
      " 4   Unnamed: 4    0 non-null      float64\n",
      "dtypes: float64(1), object(4)\n",
      "memory usage: 10.5+ KB\n"
     ]
    }
   ],
   "source": [
    "df_meta.info()"
   ]
  },
  {
   "cell_type": "markdown",
   "id": "7aabff49-76ee-447e-96f8-87d804411833",
   "metadata": {},
   "source": [
    "### Transformar Dataset df_population de vertical a horizontal "
   ]
  },
  {
   "cell_type": "code",
   "execution_count": 15,
   "id": "cbafcdeb-c206-4a6f-b058-dbf3260100f4",
   "metadata": {},
   "outputs": [],
   "source": [
    "df_popu_c = pd.melt(\n",
    "    df_popu,\n",
    "    id_vars=['Country Name','Country Code','Indicator Name', 'Indicator Code'],\n",
    "    value_vars = df_popu.iloc[:,4:-1].columns,\n",
    "    var_name = 'year',\n",
    "    value_name=('total')\n",
    ")\n",
    "                    "
   ]
  },
  {
   "cell_type": "code",
   "execution_count": 16,
   "id": "7e36dfa5-e861-4b0a-9dac-dfff70412160",
   "metadata": {},
   "outputs": [
    {
     "data": {
      "text/html": [
       "<div>\n",
       "<style scoped>\n",
       "    .dataframe tbody tr th:only-of-type {\n",
       "        vertical-align: middle;\n",
       "    }\n",
       "\n",
       "    .dataframe tbody tr th {\n",
       "        vertical-align: top;\n",
       "    }\n",
       "\n",
       "    .dataframe thead th {\n",
       "        text-align: right;\n",
       "    }\n",
       "</style>\n",
       "<table border=\"1\" class=\"dataframe\">\n",
       "  <thead>\n",
       "    <tr style=\"text-align: right;\">\n",
       "      <th></th>\n",
       "      <th>Country Name</th>\n",
       "      <th>Country Code</th>\n",
       "      <th>Indicator Name</th>\n",
       "      <th>Indicator Code</th>\n",
       "      <th>year</th>\n",
       "      <th>total</th>\n",
       "    </tr>\n",
       "  </thead>\n",
       "  <tbody>\n",
       "    <tr>\n",
       "      <th>0</th>\n",
       "      <td>Aruba</td>\n",
       "      <td>ABW</td>\n",
       "      <td>Población, total</td>\n",
       "      <td>SP.POP.TOTL</td>\n",
       "      <td>1960</td>\n",
       "      <td>54608.0</td>\n",
       "    </tr>\n",
       "    <tr>\n",
       "      <th>1</th>\n",
       "      <td>NaN</td>\n",
       "      <td>AFE</td>\n",
       "      <td>Población, total</td>\n",
       "      <td>SP.POP.TOTL</td>\n",
       "      <td>1960</td>\n",
       "      <td>130692579.0</td>\n",
       "    </tr>\n",
       "    <tr>\n",
       "      <th>2</th>\n",
       "      <td>Afganistán</td>\n",
       "      <td>AFG</td>\n",
       "      <td>Población, total</td>\n",
       "      <td>SP.POP.TOTL</td>\n",
       "      <td>1960</td>\n",
       "      <td>8622466.0</td>\n",
       "    </tr>\n",
       "    <tr>\n",
       "      <th>3</th>\n",
       "      <td>NaN</td>\n",
       "      <td>AFW</td>\n",
       "      <td>Población, total</td>\n",
       "      <td>SP.POP.TOTL</td>\n",
       "      <td>1960</td>\n",
       "      <td>97256290.0</td>\n",
       "    </tr>\n",
       "    <tr>\n",
       "      <th>4</th>\n",
       "      <td>Angola</td>\n",
       "      <td>AGO</td>\n",
       "      <td>Población, total</td>\n",
       "      <td>SP.POP.TOTL</td>\n",
       "      <td>1960</td>\n",
       "      <td>5357195.0</td>\n",
       "    </tr>\n",
       "  </tbody>\n",
       "</table>\n",
       "</div>"
      ],
      "text/plain": [
       "  Country Name Country Code    Indicator Name Indicator Code  year  \\\n",
       "0        Aruba          ABW  Población, total    SP.POP.TOTL  1960   \n",
       "1          NaN          AFE  Población, total    SP.POP.TOTL  1960   \n",
       "2   Afganistán          AFG  Población, total    SP.POP.TOTL  1960   \n",
       "3          NaN          AFW  Población, total    SP.POP.TOTL  1960   \n",
       "4       Angola          AGO  Población, total    SP.POP.TOTL  1960   \n",
       "\n",
       "         total  \n",
       "0      54608.0  \n",
       "1  130692579.0  \n",
       "2    8622466.0  \n",
       "3   97256290.0  \n",
       "4    5357195.0  "
      ]
     },
     "execution_count": 16,
     "metadata": {},
     "output_type": "execute_result"
    }
   ],
   "source": [
    "df_popu_c.head()"
   ]
  },
  {
   "cell_type": "code",
   "execution_count": 17,
   "id": "d1d5779c-2510-4fbe-b50d-bafc2a9fb3cc",
   "metadata": {},
   "outputs": [
    {
     "data": {
      "text/html": [
       "<div>\n",
       "<style scoped>\n",
       "    .dataframe tbody tr th:only-of-type {\n",
       "        vertical-align: middle;\n",
       "    }\n",
       "\n",
       "    .dataframe tbody tr th {\n",
       "        vertical-align: top;\n",
       "    }\n",
       "\n",
       "    .dataframe thead th {\n",
       "        text-align: right;\n",
       "    }\n",
       "</style>\n",
       "<table border=\"1\" class=\"dataframe\">\n",
       "  <thead>\n",
       "    <tr style=\"text-align: right;\">\n",
       "      <th></th>\n",
       "      <th>Country Name</th>\n",
       "      <th>Country Code</th>\n",
       "      <th>Indicator Name</th>\n",
       "      <th>Indicator Code</th>\n",
       "      <th>year</th>\n",
       "      <th>total</th>\n",
       "    </tr>\n",
       "  </thead>\n",
       "  <tbody>\n",
       "    <tr>\n",
       "      <th>16487</th>\n",
       "      <td>Kosovo</td>\n",
       "      <td>XKX</td>\n",
       "      <td>Población, total</td>\n",
       "      <td>SP.POP.TOTL</td>\n",
       "      <td>2021</td>\n",
       "      <td>1786038.0</td>\n",
       "    </tr>\n",
       "    <tr>\n",
       "      <th>16488</th>\n",
       "      <td>Yemen, Rep. del</td>\n",
       "      <td>YEM</td>\n",
       "      <td>Población, total</td>\n",
       "      <td>SP.POP.TOTL</td>\n",
       "      <td>2021</td>\n",
       "      <td>32981641.0</td>\n",
       "    </tr>\n",
       "    <tr>\n",
       "      <th>16489</th>\n",
       "      <td>Sudáfrica</td>\n",
       "      <td>ZAF</td>\n",
       "      <td>Población, total</td>\n",
       "      <td>SP.POP.TOTL</td>\n",
       "      <td>2021</td>\n",
       "      <td>59392255.0</td>\n",
       "    </tr>\n",
       "    <tr>\n",
       "      <th>16490</th>\n",
       "      <td>Zambia</td>\n",
       "      <td>ZMB</td>\n",
       "      <td>Población, total</td>\n",
       "      <td>SP.POP.TOTL</td>\n",
       "      <td>2021</td>\n",
       "      <td>19473125.0</td>\n",
       "    </tr>\n",
       "    <tr>\n",
       "      <th>16491</th>\n",
       "      <td>Zimbabwe</td>\n",
       "      <td>ZWE</td>\n",
       "      <td>Población, total</td>\n",
       "      <td>SP.POP.TOTL</td>\n",
       "      <td>2021</td>\n",
       "      <td>15993524.0</td>\n",
       "    </tr>\n",
       "  </tbody>\n",
       "</table>\n",
       "</div>"
      ],
      "text/plain": [
       "          Country Name Country Code    Indicator Name Indicator Code  year  \\\n",
       "16487           Kosovo          XKX  Población, total    SP.POP.TOTL  2021   \n",
       "16488  Yemen, Rep. del          YEM  Población, total    SP.POP.TOTL  2021   \n",
       "16489        Sudáfrica          ZAF  Población, total    SP.POP.TOTL  2021   \n",
       "16490           Zambia          ZMB  Población, total    SP.POP.TOTL  2021   \n",
       "16491         Zimbabwe          ZWE  Población, total    SP.POP.TOTL  2021   \n",
       "\n",
       "            total  \n",
       "16487   1786038.0  \n",
       "16488  32981641.0  \n",
       "16489  59392255.0  \n",
       "16490  19473125.0  \n",
       "16491  15993524.0  "
      ]
     },
     "execution_count": 17,
     "metadata": {},
     "output_type": "execute_result"
    }
   ],
   "source": [
    "df_popu_c.tail()"
   ]
  },
  {
   "cell_type": "code",
   "execution_count": 18,
   "id": "b0265df9-3886-41be-a2ce-9ddcf7f219c9",
   "metadata": {},
   "outputs": [
    {
     "name": "stdout",
     "output_type": "stream",
     "text": [
      "<class 'pandas.core.frame.DataFrame'>\n",
      "RangeIndex: 16492 entries, 0 to 16491\n",
      "Data columns (total 6 columns):\n",
      " #   Column          Non-Null Count  Dtype  \n",
      "---  ------          --------------  -----  \n",
      " 0   Country Name    16368 non-null  object \n",
      " 1   Country Code    16492 non-null  object \n",
      " 2   Indicator Name  16492 non-null  object \n",
      " 3   Indicator Code  16492 non-null  object \n",
      " 4   year            16492 non-null  object \n",
      " 5   total           16400 non-null  float64\n",
      "dtypes: float64(1), object(5)\n",
      "memory usage: 773.2+ KB\n"
     ]
    }
   ],
   "source": [
    "df_popu_c.info()"
   ]
  },
  {
   "cell_type": "markdown",
   "id": "67adae5d-e633-4e42-bd8d-60e66afaf571",
   "metadata": {},
   "source": [
    "## Descripción de estadísticas básicas "
   ]
  },
  {
   "cell_type": "code",
   "execution_count": 19,
   "id": "0ffcfaa0-e2a8-425a-9d83-b58976e1a92c",
   "metadata": {},
   "outputs": [
    {
     "data": {
      "text/html": [
       "<div>\n",
       "<style scoped>\n",
       "    .dataframe tbody tr th:only-of-type {\n",
       "        vertical-align: middle;\n",
       "    }\n",
       "\n",
       "    .dataframe tbody tr th {\n",
       "        vertical-align: top;\n",
       "    }\n",
       "\n",
       "    .dataframe thead th {\n",
       "        text-align: right;\n",
       "    }\n",
       "</style>\n",
       "<table border=\"1\" class=\"dataframe\">\n",
       "  <thead>\n",
       "    <tr style=\"text-align: right;\">\n",
       "      <th></th>\n",
       "      <th>total</th>\n",
       "    </tr>\n",
       "  </thead>\n",
       "  <tbody>\n",
       "    <tr>\n",
       "      <th>count</th>\n",
       "      <td>1.640000e+04</td>\n",
       "    </tr>\n",
       "    <tr>\n",
       "      <th>mean</th>\n",
       "      <td>2.140804e+08</td>\n",
       "    </tr>\n",
       "    <tr>\n",
       "      <th>std</th>\n",
       "      <td>7.040554e+08</td>\n",
       "    </tr>\n",
       "    <tr>\n",
       "      <th>min</th>\n",
       "      <td>2.646000e+03</td>\n",
       "    </tr>\n",
       "    <tr>\n",
       "      <th>25%</th>\n",
       "      <td>9.863025e+05</td>\n",
       "    </tr>\n",
       "    <tr>\n",
       "      <th>50%</th>\n",
       "      <td>6.731400e+06</td>\n",
       "    </tr>\n",
       "    <tr>\n",
       "      <th>75%</th>\n",
       "      <td>4.602445e+07</td>\n",
       "    </tr>\n",
       "    <tr>\n",
       "      <th>max</th>\n",
       "      <td>7.888409e+09</td>\n",
       "    </tr>\n",
       "  </tbody>\n",
       "</table>\n",
       "</div>"
      ],
      "text/plain": [
       "              total\n",
       "count  1.640000e+04\n",
       "mean   2.140804e+08\n",
       "std    7.040554e+08\n",
       "min    2.646000e+03\n",
       "25%    9.863025e+05\n",
       "50%    6.731400e+06\n",
       "75%    4.602445e+07\n",
       "max    7.888409e+09"
      ]
     },
     "execution_count": 19,
     "metadata": {},
     "output_type": "execute_result"
    }
   ],
   "source": [
    "df_popu_c.describe()"
   ]
  },
  {
   "cell_type": "code",
   "execution_count": 20,
   "id": "9a19b902-62b8-4667-9c2b-41e907d819d8",
   "metadata": {},
   "outputs": [
    {
     "data": {
      "text/html": [
       "<div>\n",
       "<style scoped>\n",
       "    .dataframe tbody tr th:only-of-type {\n",
       "        vertical-align: middle;\n",
       "    }\n",
       "\n",
       "    .dataframe tbody tr th {\n",
       "        vertical-align: top;\n",
       "    }\n",
       "\n",
       "    .dataframe thead th {\n",
       "        text-align: right;\n",
       "    }\n",
       "</style>\n",
       "<table border=\"1\" class=\"dataframe\">\n",
       "  <thead>\n",
       "    <tr style=\"text-align: right;\">\n",
       "      <th></th>\n",
       "      <th>Unnamed: 4</th>\n",
       "    </tr>\n",
       "  </thead>\n",
       "  <tbody>\n",
       "    <tr>\n",
       "      <th>count</th>\n",
       "      <td>0.0</td>\n",
       "    </tr>\n",
       "    <tr>\n",
       "      <th>mean</th>\n",
       "      <td>NaN</td>\n",
       "    </tr>\n",
       "    <tr>\n",
       "      <th>std</th>\n",
       "      <td>NaN</td>\n",
       "    </tr>\n",
       "    <tr>\n",
       "      <th>min</th>\n",
       "      <td>NaN</td>\n",
       "    </tr>\n",
       "    <tr>\n",
       "      <th>25%</th>\n",
       "      <td>NaN</td>\n",
       "    </tr>\n",
       "    <tr>\n",
       "      <th>50%</th>\n",
       "      <td>NaN</td>\n",
       "    </tr>\n",
       "    <tr>\n",
       "      <th>75%</th>\n",
       "      <td>NaN</td>\n",
       "    </tr>\n",
       "    <tr>\n",
       "      <th>max</th>\n",
       "      <td>NaN</td>\n",
       "    </tr>\n",
       "  </tbody>\n",
       "</table>\n",
       "</div>"
      ],
      "text/plain": [
       "       Unnamed: 4\n",
       "count         0.0\n",
       "mean          NaN\n",
       "std           NaN\n",
       "min           NaN\n",
       "25%           NaN\n",
       "50%           NaN\n",
       "75%           NaN\n",
       "max           NaN"
      ]
     },
     "execution_count": 20,
     "metadata": {},
     "output_type": "execute_result"
    }
   ],
   "source": [
    "df_meta.describe()"
   ]
  },
  {
   "cell_type": "markdown",
   "id": "5d0d486e-2042-4f54-a72c-7705834b95c1",
   "metadata": {},
   "source": [
    "## Indentificar valores únicos "
   ]
  },
  {
   "cell_type": "code",
   "execution_count": 22,
   "id": "5d2ce74b-4d03-4fce-9c5a-565da2cfb138",
   "metadata": {},
   "outputs": [
    {
     "data": {
      "text/plain": [
       "Index(['Country Name', 'Country Code', 'Indicator Name', 'Indicator Code',\n",
       "       'year', 'total'],\n",
       "      dtype='object')"
      ]
     },
     "execution_count": 22,
     "metadata": {},
     "output_type": "execute_result"
    }
   ],
   "source": [
    "df_popu_c.columns"
   ]
  },
  {
   "cell_type": "code",
   "execution_count": 23,
   "id": "878bbdc0-bdd9-4071-b08b-7220386054c2",
   "metadata": {},
   "outputs": [
    {
     "data": {
      "text/plain": [
       "264"
      ]
     },
     "execution_count": 23,
     "metadata": {},
     "output_type": "execute_result"
    }
   ],
   "source": [
    "df_popu_c['Country Name'].nunique()"
   ]
  },
  {
   "cell_type": "code",
   "execution_count": 25,
   "id": "2c16f266-ea05-44d6-87b5-8537bdafee26",
   "metadata": {},
   "outputs": [
    {
     "data": {
      "text/plain": [
       "Index(['Country Name', 'Country Code', 'Region', 'Income_Group', 'Unnamed: 4'], dtype='object')"
      ]
     },
     "execution_count": 25,
     "metadata": {},
     "output_type": "execute_result"
    }
   ],
   "source": [
    "df_meta.columns"
   ]
  },
  {
   "cell_type": "code",
   "execution_count": 26,
   "id": "efc4568f-8ab3-4216-a88d-7cd449d385b6",
   "metadata": {},
   "outputs": [
    {
     "data": {
      "text/plain": [
       "6"
      ]
     },
     "execution_count": 26,
     "metadata": {},
     "output_type": "execute_result"
    }
   ],
   "source": [
    "df_meta['Region'].nunique()"
   ]
  },
  {
   "cell_type": "markdown",
   "id": "16117eb0-7a62-4811-9c7e-518078df17cf",
   "metadata": {},
   "source": [
    "## Detección de valores nulos"
   ]
  },
  {
   "cell_type": "code",
   "execution_count": 29,
   "id": "ef344daa-59d0-4105-9ee8-b5c896ac648e",
   "metadata": {},
   "outputs": [
    {
     "data": {
      "text/plain": [
       "Country Name      124\n",
       "Country Code        0\n",
       "Indicator Name      0\n",
       "Indicator Code      0\n",
       "year                0\n",
       "total              92\n",
       "dtype: int64"
      ]
     },
     "execution_count": 29,
     "metadata": {},
     "output_type": "execute_result"
    }
   ],
   "source": [
    "df_popu_c.isnull().sum()"
   ]
  },
  {
   "cell_type": "code",
   "execution_count": 30,
   "id": "16fb9622-0832-46e8-b680-63e8e7a111d4",
   "metadata": {},
   "outputs": [
    {
     "data": {
      "text/plain": [
       "Country Name        2\n",
       "Country Code        0\n",
       "Indicator Name      0\n",
       "Indicator Code      0\n",
       "1960                2\n",
       "                 ... \n",
       "2018                1\n",
       "2019                1\n",
       "2020                1\n",
       "2021                1\n",
       "Unnamed: 66       266\n",
       "Length: 67, dtype: int64"
      ]
     },
     "execution_count": 30,
     "metadata": {},
     "output_type": "execute_result"
    }
   ],
   "source": [
    "df_popu.isnull().sum()"
   ]
  },
  {
   "cell_type": "code",
   "execution_count": 31,
   "id": "78060940-8262-4e38-aea1-464a741c74d8",
   "metadata": {},
   "outputs": [
    {
     "data": {
      "text/plain": [
       "Country Name      0.751880\n",
       "Country Code      0.000000\n",
       "Indicator Name    0.000000\n",
       "Indicator Code    0.000000\n",
       "year              0.000000\n",
       "total             0.557846\n",
       "dtype: float64"
      ]
     },
     "execution_count": 31,
     "metadata": {},
     "output_type": "execute_result"
    }
   ],
   "source": [
    "df_popu_c.isnull().mean()*100"
   ]
  },
  {
   "cell_type": "code",
   "execution_count": 32,
   "id": "b71f8f76-d195-4678-81e5-a7d5ad3d203c",
   "metadata": {},
   "outputs": [
    {
     "data": {
      "text/plain": [
       "Country Name      2\n",
       "Country Code      0\n",
       "Region          130\n",
       "Income_Group      0\n",
       "Unnamed: 4      266\n",
       "dtype: int64"
      ]
     },
     "execution_count": 32,
     "metadata": {},
     "output_type": "execute_result"
    }
   ],
   "source": [
    "df_meta.isnull().sum()"
   ]
  },
  {
   "cell_type": "code",
   "execution_count": 33,
   "id": "47b498f3-6f71-4c54-b5d7-389862eb278e",
   "metadata": {},
   "outputs": [
    {
     "name": "stdout",
     "output_type": "stream",
     "text": [
      "Country Name      0.75188\n",
      "Country Code      0.00000\n",
      "Region           48.87218\n",
      "Income_Group      0.00000\n",
      "Unnamed: 4      100.00000\n",
      "dtype: float64\n"
     ]
    }
   ],
   "source": [
    "print(df_meta.isnull().mean()*100)"
   ]
  },
  {
   "cell_type": "markdown",
   "id": "0dd980bf-e0c2-49b2-9db6-5745090d233e",
   "metadata": {},
   "source": [
    "## Visualización de la distribución de datos numéricos"
   ]
  },
  {
   "cell_type": "code",
   "execution_count": null,
   "id": "b72ec7f9-018e-48dc-95eb-d7cda60d5524",
   "metadata": {},
   "outputs": [],
   "source": []
  }
 ],
 "metadata": {
  "kernelspec": {
   "display_name": "Python 3 (ipykernel)",
   "language": "python",
   "name": "python3"
  },
  "language_info": {
   "codemirror_mode": {
    "name": "ipython",
    "version": 3
   },
   "file_extension": ".py",
   "mimetype": "text/x-python",
   "name": "python",
   "nbconvert_exporter": "python",
   "pygments_lexer": "ipython3",
   "version": "3.13.3"
  }
 },
 "nbformat": 4,
 "nbformat_minor": 5
}
